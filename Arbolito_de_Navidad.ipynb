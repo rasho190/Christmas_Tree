{
  "cells": [
    {
      "cell_type": "code",
      "execution_count": 1,
      "metadata": {
        "id": "HkPpgQjEeuWY"
      },
      "outputs": [],
      "source": [
        "import turtle\n",
        "import random\n",
        "\n",
        "window = turtle.Screen()\n",
        "window.bgcolor(\"sky blue\")"
      ]
    },
    {
      "cell_type": "code",
      "execution_count": 2,
      "metadata": {
        "id": "lPkl6RZSeuWc"
      },
      "outputs": [],
      "source": [
        "#Tronco del Árbol\n",
        "trunk = turtle.Turtle()\n",
        "trunk.color('chocolate')\n",
        "trunk.right(90)\n",
        "trunk.pensize(68)\n",
        "trunk.penup()\n",
        "trunk.forward(100)\n",
        "trunk.pendown()\n",
        "trunk.forward(300)"
      ]
    },
    {
      "cell_type": "code",
      "execution_count": 3,
      "metadata": {
        "id": "qNSmYsXHeuWd"
      },
      "outputs": [],
      "source": [
        "#Ramas del Arbol\n",
        "tree = turtle.Turtle()\n",
        "tree.color(\"forest green\")"
      ]
    },
    {
      "cell_type": "code",
      "execution_count": 4,
      "metadata": {
        "id": "xSHUrtzDeuWe"
      },
      "outputs": [],
      "source": [
        "def make_tree_segment(size, top_position):\n",
        "    tree.begin_fill()\n",
        "    tree.setposition(0, top_position)\n",
        "    tree.setposition(size, top_position - size)\n",
        "    tree.setposition(-size, top_position - size)\n",
        "    tree.setposition(0, top_position)\n",
        "    tree.end_fill()"
      ]
    },
    {
      "cell_type": "code",
      "execution_count": 5,
      "metadata": {},
      "outputs": [],
      "source": [
        "def make_tree_segment(size, top_position):\n",
        "    tree.begin_fill()\n",
        "    tree.setposition(0, top_position)\n",
        "    tree.setposition(size, top_position - size)\n",
        "    tree.setposition(-size, top_position - size)\n",
        "    tree.setposition(0, top_position)\n",
        "    tree.end_fill()"
      ]
    },
    {
      "cell_type": "code",
      "execution_count": 6,
      "metadata": {
        "id": "T95fBxE1euWe"
      },
      "outputs": [],
      "source": [
        "make_tree_segment(100, 100)\n",
        "make_tree_segment(150, 80)\n",
        "make_tree_segment(200, 60)\n",
        "make_tree_segment(250, 40)"
      ]
    },
    {
      "cell_type": "code",
      "execution_count": 7,
      "metadata": {},
      "outputs": [],
      "source": [
        "# Estrella en la punta del Árbol\n",
        "star = turtle.Turtle()\n",
        "star.color(\"gold\")\n",
        "star.penup()\n",
        "star.goto(-20, 110)  # Ajusta la posición según la altura de tu árbol\n",
        "star.pendown()"
      ]
    },
    {
      "cell_type": "code",
      "execution_count": 8,
      "metadata": {},
      "outputs": [],
      "source": [
        "# Dibuja una estrella de 5 puntas\n",
        "star.begin_fill()\n",
        "for _ in range(5):\n",
        "    star.forward(40)\n",
        "    star.right(144)\n",
        "star.end_fill()"
      ]
    }
  ],
  "metadata": {
    "colab": {
      "provenance": []
    },
    "kernelspec": {
      "display_name": "base",
      "language": "python",
      "name": "python3"
    },
    "language_info": {
      "codemirror_mode": {
        "name": "ipython",
        "version": 3
      },
      "file_extension": ".py",
      "mimetype": "text/x-python",
      "name": "python",
      "nbconvert_exporter": "python",
      "pygments_lexer": "ipython3",
      "version": "3.11.5"
    }
  },
  "nbformat": 4,
  "nbformat_minor": 0
}
